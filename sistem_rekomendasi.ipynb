{
  "nbformat": 4,
  "nbformat_minor": 0,
  "metadata": {
    "colab": {
      "provenance": [],
      "include_colab_link": true
    },
    "kernelspec": {
      "name": "python3",
      "display_name": "Python 3"
    },
    "language_info": {
      "name": "python"
    }
  },
  "cells": [
    {
      "cell_type": "markdown",
      "metadata": {
        "id": "view-in-github",
        "colab_type": "text"
      },
      "source": [
        "<a href=\"https://colab.research.google.com/github/syamsulmuariff/Rekomendasi_sistem/blob/main/sistem_rekomendasi.ipynb\" target=\"_parent\"><img src=\"https://colab.research.google.com/assets/colab-badge.svg\" alt=\"Open In Colab\"/></a>"
      ]
    },
    {
      "cell_type": "markdown",
      "source": [
        "**Content Based Filtering : Rekomendasi Modul Pembelajaran**"
      ],
      "metadata": {
        "id": "JtdsGuZkDKOa"
      }
    },
    {
      "cell_type": "code",
      "execution_count": 1,
      "metadata": {
        "id": "qY_iF2mkDEYs",
        "colab": {
          "base_uri": "https://localhost:8080/",
          "height": 206
        },
        "outputId": "11cda999-bb62-4fd0-d83f-9793d4570f85"
      },
      "outputs": [
        {
          "output_type": "execute_result",
          "data": {
            "text/plain": [
              "                   Nama perusahaan  \\\n",
              "0                  Syamsul mu arif   \n",
              "1     PT Nurul fikri cipta inovasi   \n",
              "2       PT Orbit Ventura Indonesia   \n",
              "3  PT Impactbyte Teknologi Edukasi   \n",
              "4   PT Mitra Integrasi Informatika   \n",
              "\n",
              "                                              Alamat  \\\n",
              "0                     Ds.sumbermulyo Tlogowungu Pati   \n",
              "1  jl.situ indah No 116 RT.006 RW.010 Kel tugu ke...   \n",
              "2  Veteran RI Building 15th Floor Unit Z15-002 Pl...   \n",
              "3   Jl. Simprug Golf 8 No.6 RT.2 RW.8 Grogol Sel....   \n",
              "4  APL Tower Lantai 37 Jl.Letjen S.Parman Kav. 28...   \n",
              "\n",
              "                                               Modul  \n",
              "0  Sistem Digital Bahasa Pemprograman Algoritma d...  \n",
              "1  Desan web git/github javascript laravel databa...  \n",
              "2  Project AI Metode Penelitian AI Pemrograman Py...  \n",
              "3  User Interface Designing dan Prototyping Resea...  \n",
              "4  Introduction Programming Front-End Programming...  "
            ],
            "text/html": [
              "\n",
              "  <div id=\"df-f2d157b0-6c3b-478a-969e-a85c5bbdf67f\">\n",
              "    <div class=\"colab-df-container\">\n",
              "      <div>\n",
              "<style scoped>\n",
              "    .dataframe tbody tr th:only-of-type {\n",
              "        vertical-align: middle;\n",
              "    }\n",
              "\n",
              "    .dataframe tbody tr th {\n",
              "        vertical-align: top;\n",
              "    }\n",
              "\n",
              "    .dataframe thead th {\n",
              "        text-align: right;\n",
              "    }\n",
              "</style>\n",
              "<table border=\"1\" class=\"dataframe\">\n",
              "  <thead>\n",
              "    <tr style=\"text-align: right;\">\n",
              "      <th></th>\n",
              "      <th>Nama perusahaan</th>\n",
              "      <th>Alamat</th>\n",
              "      <th>Modul</th>\n",
              "    </tr>\n",
              "  </thead>\n",
              "  <tbody>\n",
              "    <tr>\n",
              "      <th>0</th>\n",
              "      <td>Syamsul mu arif</td>\n",
              "      <td>Ds.sumbermulyo Tlogowungu Pati</td>\n",
              "      <td>Sistem Digital Bahasa Pemprograman Algoritma d...</td>\n",
              "    </tr>\n",
              "    <tr>\n",
              "      <th>1</th>\n",
              "      <td>PT Nurul fikri cipta inovasi</td>\n",
              "      <td>jl.situ indah No 116 RT.006 RW.010 Kel tugu ke...</td>\n",
              "      <td>Desan web git/github javascript laravel databa...</td>\n",
              "    </tr>\n",
              "    <tr>\n",
              "      <th>2</th>\n",
              "      <td>PT Orbit Ventura Indonesia</td>\n",
              "      <td>Veteran RI Building 15th Floor Unit Z15-002 Pl...</td>\n",
              "      <td>Project AI Metode Penelitian AI Pemrograman Py...</td>\n",
              "    </tr>\n",
              "    <tr>\n",
              "      <th>3</th>\n",
              "      <td>PT Impactbyte Teknologi Edukasi</td>\n",
              "      <td>Jl. Simprug Golf 8 No.6 RT.2 RW.8 Grogol Sel....</td>\n",
              "      <td>User Interface Designing dan Prototyping Resea...</td>\n",
              "    </tr>\n",
              "    <tr>\n",
              "      <th>4</th>\n",
              "      <td>PT Mitra Integrasi Informatika</td>\n",
              "      <td>APL Tower Lantai 37 Jl.Letjen S.Parman Kav. 28...</td>\n",
              "      <td>Introduction Programming Front-End Programming...</td>\n",
              "    </tr>\n",
              "  </tbody>\n",
              "</table>\n",
              "</div>\n",
              "      <button class=\"colab-df-convert\" onclick=\"convertToInteractive('df-f2d157b0-6c3b-478a-969e-a85c5bbdf67f')\"\n",
              "              title=\"Convert this dataframe to an interactive table.\"\n",
              "              style=\"display:none;\">\n",
              "        \n",
              "  <svg xmlns=\"http://www.w3.org/2000/svg\" height=\"24px\"viewBox=\"0 0 24 24\"\n",
              "       width=\"24px\">\n",
              "    <path d=\"M0 0h24v24H0V0z\" fill=\"none\"/>\n",
              "    <path d=\"M18.56 5.44l.94 2.06.94-2.06 2.06-.94-2.06-.94-.94-2.06-.94 2.06-2.06.94zm-11 1L8.5 8.5l.94-2.06 2.06-.94-2.06-.94L8.5 2.5l-.94 2.06-2.06.94zm10 10l.94 2.06.94-2.06 2.06-.94-2.06-.94-.94-2.06-.94 2.06-2.06.94z\"/><path d=\"M17.41 7.96l-1.37-1.37c-.4-.4-.92-.59-1.43-.59-.52 0-1.04.2-1.43.59L10.3 9.45l-7.72 7.72c-.78.78-.78 2.05 0 2.83L4 21.41c.39.39.9.59 1.41.59.51 0 1.02-.2 1.41-.59l7.78-7.78 2.81-2.81c.8-.78.8-2.07 0-2.86zM5.41 20L4 18.59l7.72-7.72 1.47 1.35L5.41 20z\"/>\n",
              "  </svg>\n",
              "      </button>\n",
              "      \n",
              "  <style>\n",
              "    .colab-df-container {\n",
              "      display:flex;\n",
              "      flex-wrap:wrap;\n",
              "      gap: 12px;\n",
              "    }\n",
              "\n",
              "    .colab-df-convert {\n",
              "      background-color: #E8F0FE;\n",
              "      border: none;\n",
              "      border-radius: 50%;\n",
              "      cursor: pointer;\n",
              "      display: none;\n",
              "      fill: #1967D2;\n",
              "      height: 32px;\n",
              "      padding: 0 0 0 0;\n",
              "      width: 32px;\n",
              "    }\n",
              "\n",
              "    .colab-df-convert:hover {\n",
              "      background-color: #E2EBFA;\n",
              "      box-shadow: 0px 1px 2px rgba(60, 64, 67, 0.3), 0px 1px 3px 1px rgba(60, 64, 67, 0.15);\n",
              "      fill: #174EA6;\n",
              "    }\n",
              "\n",
              "    [theme=dark] .colab-df-convert {\n",
              "      background-color: #3B4455;\n",
              "      fill: #D2E3FC;\n",
              "    }\n",
              "\n",
              "    [theme=dark] .colab-df-convert:hover {\n",
              "      background-color: #434B5C;\n",
              "      box-shadow: 0px 1px 3px 1px rgba(0, 0, 0, 0.15);\n",
              "      filter: drop-shadow(0px 1px 2px rgba(0, 0, 0, 0.3));\n",
              "      fill: #FFFFFF;\n",
              "    }\n",
              "  </style>\n",
              "\n",
              "      <script>\n",
              "        const buttonEl =\n",
              "          document.querySelector('#df-f2d157b0-6c3b-478a-969e-a85c5bbdf67f button.colab-df-convert');\n",
              "        buttonEl.style.display =\n",
              "          google.colab.kernel.accessAllowed ? 'block' : 'none';\n",
              "\n",
              "        async function convertToInteractive(key) {\n",
              "          const element = document.querySelector('#df-f2d157b0-6c3b-478a-969e-a85c5bbdf67f');\n",
              "          const dataTable =\n",
              "            await google.colab.kernel.invokeFunction('convertToInteractive',\n",
              "                                                     [key], {});\n",
              "          if (!dataTable) return;\n",
              "\n",
              "          const docLinkHtml = 'Like what you see? Visit the ' +\n",
              "            '<a target=\"_blank\" href=https://colab.research.google.com/notebooks/data_table.ipynb>data table notebook</a>'\n",
              "            + ' to learn more about interactive tables.';\n",
              "          element.innerHTML = '';\n",
              "          dataTable['output_type'] = 'display_data';\n",
              "          await google.colab.output.renderOutput(dataTable, element);\n",
              "          const docLink = document.createElement('div');\n",
              "          docLink.innerHTML = docLinkHtml;\n",
              "          element.appendChild(docLink);\n",
              "        }\n",
              "      </script>\n",
              "    </div>\n",
              "  </div>\n",
              "  "
            ]
          },
          "metadata": {},
          "execution_count": 1
        }
      ],
      "source": [
        "import pandas as pd\n",
        "import numpy as np\n",
        "from sklearn.metrics.pairwise import cosine_similarity\n",
        "from sklearn.feature_extraction.text import TfidfVectorizer\n",
        "from nltk.corpus import stopwords\n",
        "import re\n",
        "import random\n",
        "\n",
        "df = pd.read_csv(\"https://raw.githubusercontent.com/syamsulmuariff/Rekomendasi_sistem/main/data_recomendation.csv\")\n",
        "df.head()"
      ]
    },
    {
      "cell_type": "markdown",
      "source": [
        "**1. Ikhtisar**"
      ],
      "metadata": {
        "id": "omo6T0xoV29J"
      }
    },
    {
      "cell_type": "code",
      "source": [
        "df.describe()"
      ],
      "metadata": {
        "colab": {
          "base_uri": "https://localhost:8080/",
          "height": 175
        },
        "id": "O9f5xkgWV2be",
        "outputId": "fba16427-58ae-490c-f040-7cf32d5d6a60"
      },
      "execution_count": 2,
      "outputs": [
        {
          "output_type": "execute_result",
          "data": {
            "text/plain": [
              "                       Nama perusahaan                          Alamat  \\\n",
              "count                               11                              11   \n",
              "unique                              10                              11   \n",
              "top     PT Mitra Integrasi Informatika  Ds.sumbermulyo Tlogowungu Pati   \n",
              "freq                                 2                               1   \n",
              "\n",
              "                                                    Modul  \n",
              "count                                                  11  \n",
              "unique                                                 11  \n",
              "top     Sistem Digital Bahasa Pemprograman Algoritma d...  \n",
              "freq                                                    1  "
            ],
            "text/html": [
              "\n",
              "  <div id=\"df-0bf7e467-252a-4786-a85e-69184ddfbb60\">\n",
              "    <div class=\"colab-df-container\">\n",
              "      <div>\n",
              "<style scoped>\n",
              "    .dataframe tbody tr th:only-of-type {\n",
              "        vertical-align: middle;\n",
              "    }\n",
              "\n",
              "    .dataframe tbody tr th {\n",
              "        vertical-align: top;\n",
              "    }\n",
              "\n",
              "    .dataframe thead th {\n",
              "        text-align: right;\n",
              "    }\n",
              "</style>\n",
              "<table border=\"1\" class=\"dataframe\">\n",
              "  <thead>\n",
              "    <tr style=\"text-align: right;\">\n",
              "      <th></th>\n",
              "      <th>Nama perusahaan</th>\n",
              "      <th>Alamat</th>\n",
              "      <th>Modul</th>\n",
              "    </tr>\n",
              "  </thead>\n",
              "  <tbody>\n",
              "    <tr>\n",
              "      <th>count</th>\n",
              "      <td>11</td>\n",
              "      <td>11</td>\n",
              "      <td>11</td>\n",
              "    </tr>\n",
              "    <tr>\n",
              "      <th>unique</th>\n",
              "      <td>10</td>\n",
              "      <td>11</td>\n",
              "      <td>11</td>\n",
              "    </tr>\n",
              "    <tr>\n",
              "      <th>top</th>\n",
              "      <td>PT Mitra Integrasi Informatika</td>\n",
              "      <td>Ds.sumbermulyo Tlogowungu Pati</td>\n",
              "      <td>Sistem Digital Bahasa Pemprograman Algoritma d...</td>\n",
              "    </tr>\n",
              "    <tr>\n",
              "      <th>freq</th>\n",
              "      <td>2</td>\n",
              "      <td>1</td>\n",
              "      <td>1</td>\n",
              "    </tr>\n",
              "  </tbody>\n",
              "</table>\n",
              "</div>\n",
              "      <button class=\"colab-df-convert\" onclick=\"convertToInteractive('df-0bf7e467-252a-4786-a85e-69184ddfbb60')\"\n",
              "              title=\"Convert this dataframe to an interactive table.\"\n",
              "              style=\"display:none;\">\n",
              "        \n",
              "  <svg xmlns=\"http://www.w3.org/2000/svg\" height=\"24px\"viewBox=\"0 0 24 24\"\n",
              "       width=\"24px\">\n",
              "    <path d=\"M0 0h24v24H0V0z\" fill=\"none\"/>\n",
              "    <path d=\"M18.56 5.44l.94 2.06.94-2.06 2.06-.94-2.06-.94-.94-2.06-.94 2.06-2.06.94zm-11 1L8.5 8.5l.94-2.06 2.06-.94-2.06-.94L8.5 2.5l-.94 2.06-2.06.94zm10 10l.94 2.06.94-2.06 2.06-.94-2.06-.94-.94-2.06-.94 2.06-2.06.94z\"/><path d=\"M17.41 7.96l-1.37-1.37c-.4-.4-.92-.59-1.43-.59-.52 0-1.04.2-1.43.59L10.3 9.45l-7.72 7.72c-.78.78-.78 2.05 0 2.83L4 21.41c.39.39.9.59 1.41.59.51 0 1.02-.2 1.41-.59l7.78-7.78 2.81-2.81c.8-.78.8-2.07 0-2.86zM5.41 20L4 18.59l7.72-7.72 1.47 1.35L5.41 20z\"/>\n",
              "  </svg>\n",
              "      </button>\n",
              "      \n",
              "  <style>\n",
              "    .colab-df-container {\n",
              "      display:flex;\n",
              "      flex-wrap:wrap;\n",
              "      gap: 12px;\n",
              "    }\n",
              "\n",
              "    .colab-df-convert {\n",
              "      background-color: #E8F0FE;\n",
              "      border: none;\n",
              "      border-radius: 50%;\n",
              "      cursor: pointer;\n",
              "      display: none;\n",
              "      fill: #1967D2;\n",
              "      height: 32px;\n",
              "      padding: 0 0 0 0;\n",
              "      width: 32px;\n",
              "    }\n",
              "\n",
              "    .colab-df-convert:hover {\n",
              "      background-color: #E2EBFA;\n",
              "      box-shadow: 0px 1px 2px rgba(60, 64, 67, 0.3), 0px 1px 3px 1px rgba(60, 64, 67, 0.15);\n",
              "      fill: #174EA6;\n",
              "    }\n",
              "\n",
              "    [theme=dark] .colab-df-convert {\n",
              "      background-color: #3B4455;\n",
              "      fill: #D2E3FC;\n",
              "    }\n",
              "\n",
              "    [theme=dark] .colab-df-convert:hover {\n",
              "      background-color: #434B5C;\n",
              "      box-shadow: 0px 1px 3px 1px rgba(0, 0, 0, 0.15);\n",
              "      filter: drop-shadow(0px 1px 2px rgba(0, 0, 0, 0.3));\n",
              "      fill: #FFFFFF;\n",
              "    }\n",
              "  </style>\n",
              "\n",
              "      <script>\n",
              "        const buttonEl =\n",
              "          document.querySelector('#df-0bf7e467-252a-4786-a85e-69184ddfbb60 button.colab-df-convert');\n",
              "        buttonEl.style.display =\n",
              "          google.colab.kernel.accessAllowed ? 'block' : 'none';\n",
              "\n",
              "        async function convertToInteractive(key) {\n",
              "          const element = document.querySelector('#df-0bf7e467-252a-4786-a85e-69184ddfbb60');\n",
              "          const dataTable =\n",
              "            await google.colab.kernel.invokeFunction('convertToInteractive',\n",
              "                                                     [key], {});\n",
              "          if (!dataTable) return;\n",
              "\n",
              "          const docLinkHtml = 'Like what you see? Visit the ' +\n",
              "            '<a target=\"_blank\" href=https://colab.research.google.com/notebooks/data_table.ipynb>data table notebook</a>'\n",
              "            + ' to learn more about interactive tables.';\n",
              "          element.innerHTML = '';\n",
              "          dataTable['output_type'] = 'display_data';\n",
              "          await google.colab.output.renderOutput(dataTable, element);\n",
              "          const docLink = document.createElement('div');\n",
              "          docLink.innerHTML = docLinkHtml;\n",
              "          element.appendChild(docLink);\n",
              "        }\n",
              "      </script>\n",
              "    </div>\n",
              "  </div>\n",
              "  "
            ]
          },
          "metadata": {},
          "execution_count": 2
        }
      ]
    },
    {
      "cell_type": "code",
      "source": [
        "df.info()"
      ],
      "metadata": {
        "colab": {
          "base_uri": "https://localhost:8080/"
        },
        "id": "Q77GzERJV_FC",
        "outputId": "eba0965b-0886-4cea-b126-ffffd4805e49"
      },
      "execution_count": 3,
      "outputs": [
        {
          "output_type": "stream",
          "name": "stdout",
          "text": [
            "<class 'pandas.core.frame.DataFrame'>\n",
            "RangeIndex: 11 entries, 0 to 10\n",
            "Data columns (total 3 columns):\n",
            " #   Column           Non-Null Count  Dtype \n",
            "---  ------           --------------  ----- \n",
            " 0   Nama perusahaan  11 non-null     object\n",
            " 1   Alamat           11 non-null     object\n",
            " 2   Modul            11 non-null     object\n",
            "dtypes: object(3)\n",
            "memory usage: 392.0+ bytes\n"
          ]
        }
      ]
    },
    {
      "cell_type": "markdown",
      "source": [
        "**2. Tampilan Modul Pembelajaran (Sebelum Preprocessing)**"
      ],
      "metadata": {
        "id": "YqJc5xD5WB_S"
      }
    },
    {
      "cell_type": "code",
      "source": [
        "def print_description(index):\n",
        "    example = df[df.index == index][['Modul', 'Nama perusahaan','Alamat']].values[0]\n",
        "    if len(example) > 0:\n",
        "        print(example[0])\n",
        "        print('Nama perusahaan:', example[1])\n",
        "        print('Alamat:', example[2])"
      ],
      "metadata": {
        "id": "Cwg0W9RUWHLQ"
      },
      "execution_count": 16,
      "outputs": []
    },
    {
      "cell_type": "code",
      "source": [
        "print_description(1)"
      ],
      "metadata": {
        "colab": {
          "base_uri": "https://localhost:8080/"
        },
        "id": "ZCNVKOK_WSE_",
        "outputId": "ca2b84dc-3aa5-454e-bad9-091ce0e4801c"
      },
      "execution_count": 17,
      "outputs": [
        {
          "output_type": "stream",
          "name": "stdout",
          "text": [
            "Desan web git/github javascript laravel database MYSQL PHP RESTAPI UI/UX Soft skill final project\n",
            "Nama perusahaan: PT Nurul fikri cipta inovasi\n",
            "Alamat: jl.situ indah No 116 RT.006 RW.010 Kel tugu kec.cimanggis kota depok jawa barat\n"
          ]
        }
      ]
    },
    {
      "cell_type": "code",
      "source": [
        "print_description(3)"
      ],
      "metadata": {
        "colab": {
          "base_uri": "https://localhost:8080/"
        },
        "id": "vmCtdi0iWSLi",
        "outputId": "f9da4348-ef61-4b65-fc8f-f72fc858118b"
      },
      "execution_count": 21,
      "outputs": [
        {
          "output_type": "stream",
          "name": "stdout",
          "text": [
            "User Interface Designing dan Prototyping Research dan Usability Testing UI/UX Design Thingking Career Development\n",
            "Nama perusahaan: PT Impactbyte Teknologi Edukasi\n",
            "Alamat:  Jl. Simprug Golf 8 No.6 RT.2 RW.8 Grogol Sel. Kec. Kby. Lama Kota Jakarta Selatan Daerah Khusus Ibukota Jakarta 12220\n"
          ]
        }
      ]
    },
    {
      "cell_type": "code",
      "source": [
        "print_description(5)"
      ],
      "metadata": {
        "colab": {
          "base_uri": "https://localhost:8080/"
        },
        "id": "rBCQkAvHWeTG",
        "outputId": "0600c10f-b60f-4a93-b432-b3883c79991f"
      },
      "execution_count": 20,
      "outputs": [
        {
          "output_type": "stream",
          "name": "stdout",
          "text": [
            "Microsoft 365 Fundamentals Microsoft Azure Fundamentals Capstone Projetct Design Thingking Masterclass Modern Project Management Microsoft Azure Administrator\n",
            "Nama perusahaan: PT MariBelajar Indonesia Cerdas\n",
            "Alamat: Jln Tunggul Ametung IVa no 8 Desa Ubung Kaja Kecamatan Denpasar utara Kota Denpasar\n"
          ]
        }
      ]
    },
    {
      "cell_type": "markdown",
      "source": [
        "**3. Text Preprocessing**"
      ],
      "metadata": {
        "id": "vZbZyLltW9xH"
      }
    },
    {
      "cell_type": "code",
      "source": [
        "import nltk\n",
        "nltk.download('stopwords')\n",
        "clean_spcl = re.compile('[/(){}\\[\\]\\|@,;]')\n",
        "clean_symbol = re.compile('[^0-9a-z #+_]')\n",
        "#stopworda = set(stopwords.words('english'))\n",
        "\n",
        "def clean_text(text):\n",
        "    \"\"\"\n",
        "        text: a string\n",
        "        \n",
        "        return: modified initial string\n",
        "    \"\"\"\n",
        "    text = text.lower() # lowercase text\n",
        "    text = clean_spcl.sub(' ', text)\n",
        "    text = clean_symbol.sub('', text)\n",
        "    #text = ' '.join(word for word in text.split() if word not in stopworda) # hapus stopword dari kolom deskripsi\n",
        "    return text\n",
        "    \n",
        "df['modulpembelajaran_clean'] = df['Modul'].apply(clean_text)"
      ],
      "metadata": {
        "colab": {
          "base_uri": "https://localhost:8080/"
        },
        "id": "sDkDo8VsW-9t",
        "outputId": "03b9c9d1-ffe7-4cbf-a128-79dd597bd543"
      },
      "execution_count": 24,
      "outputs": [
        {
          "output_type": "stream",
          "name": "stderr",
          "text": [
            "[nltk_data] Downloading package stopwords to /root/nltk_data...\n",
            "[nltk_data]   Package stopwords is already up-to-date!\n"
          ]
        }
      ]
    },
    {
      "cell_type": "code",
      "source": [
        "df.head()"
      ],
      "metadata": {
        "colab": {
          "base_uri": "https://localhost:8080/",
          "height": 206
        },
        "id": "X44DdSVlXIpo",
        "outputId": "b1f3124e-5924-4c58-af0c-a17d61111c9d"
      },
      "execution_count": 25,
      "outputs": [
        {
          "output_type": "execute_result",
          "data": {
            "text/plain": [
              "                   Nama perusahaan  \\\n",
              "0                  Syamsul mu arif   \n",
              "1     PT Nurul fikri cipta inovasi   \n",
              "2       PT Orbit Ventura Indonesia   \n",
              "3  PT Impactbyte Teknologi Edukasi   \n",
              "4   PT Mitra Integrasi Informatika   \n",
              "\n",
              "                                              Alamat  \\\n",
              "0                     Ds.sumbermulyo Tlogowungu Pati   \n",
              "1  jl.situ indah No 116 RT.006 RW.010 Kel tugu ke...   \n",
              "2  Veteran RI Building 15th Floor Unit Z15-002 Pl...   \n",
              "3   Jl. Simprug Golf 8 No.6 RT.2 RW.8 Grogol Sel....   \n",
              "4  APL Tower Lantai 37 Jl.Letjen S.Parman Kav. 28...   \n",
              "\n",
              "                                               Modul  \\\n",
              "0  Sistem Digital Bahasa Pemprograman Algoritma d...   \n",
              "1  Desan web git/github javascript laravel databa...   \n",
              "2  Project AI Metode Penelitian AI Pemrograman Py...   \n",
              "3  User Interface Designing dan Prototyping Resea...   \n",
              "4  Introduction Programming Front-End Programming...   \n",
              "\n",
              "                             modulpembelajaran_clean  \n",
              "0  sistem digital bahasa pemprograman algoritma d...  \n",
              "1  desan web git github javascript laravel databa...  \n",
              "2  project ai metode penelitian ai pemrograman py...  \n",
              "3  user interface designing dan prototyping resea...  \n",
              "4  introduction programming frontend programming ...  "
            ],
            "text/html": [
              "\n",
              "  <div id=\"df-14e3e389-652b-4e82-ae51-f88d23f5d636\">\n",
              "    <div class=\"colab-df-container\">\n",
              "      <div>\n",
              "<style scoped>\n",
              "    .dataframe tbody tr th:only-of-type {\n",
              "        vertical-align: middle;\n",
              "    }\n",
              "\n",
              "    .dataframe tbody tr th {\n",
              "        vertical-align: top;\n",
              "    }\n",
              "\n",
              "    .dataframe thead th {\n",
              "        text-align: right;\n",
              "    }\n",
              "</style>\n",
              "<table border=\"1\" class=\"dataframe\">\n",
              "  <thead>\n",
              "    <tr style=\"text-align: right;\">\n",
              "      <th></th>\n",
              "      <th>Nama perusahaan</th>\n",
              "      <th>Alamat</th>\n",
              "      <th>Modul</th>\n",
              "      <th>modulpembelajaran_clean</th>\n",
              "    </tr>\n",
              "  </thead>\n",
              "  <tbody>\n",
              "    <tr>\n",
              "      <th>0</th>\n",
              "      <td>Syamsul mu arif</td>\n",
              "      <td>Ds.sumbermulyo Tlogowungu Pati</td>\n",
              "      <td>Sistem Digital Bahasa Pemprograman Algoritma d...</td>\n",
              "      <td>sistem digital bahasa pemprograman algoritma d...</td>\n",
              "    </tr>\n",
              "    <tr>\n",
              "      <th>1</th>\n",
              "      <td>PT Nurul fikri cipta inovasi</td>\n",
              "      <td>jl.situ indah No 116 RT.006 RW.010 Kel tugu ke...</td>\n",
              "      <td>Desan web git/github javascript laravel databa...</td>\n",
              "      <td>desan web git github javascript laravel databa...</td>\n",
              "    </tr>\n",
              "    <tr>\n",
              "      <th>2</th>\n",
              "      <td>PT Orbit Ventura Indonesia</td>\n",
              "      <td>Veteran RI Building 15th Floor Unit Z15-002 Pl...</td>\n",
              "      <td>Project AI Metode Penelitian AI Pemrograman Py...</td>\n",
              "      <td>project ai metode penelitian ai pemrograman py...</td>\n",
              "    </tr>\n",
              "    <tr>\n",
              "      <th>3</th>\n",
              "      <td>PT Impactbyte Teknologi Edukasi</td>\n",
              "      <td>Jl. Simprug Golf 8 No.6 RT.2 RW.8 Grogol Sel....</td>\n",
              "      <td>User Interface Designing dan Prototyping Resea...</td>\n",
              "      <td>user interface designing dan prototyping resea...</td>\n",
              "    </tr>\n",
              "    <tr>\n",
              "      <th>4</th>\n",
              "      <td>PT Mitra Integrasi Informatika</td>\n",
              "      <td>APL Tower Lantai 37 Jl.Letjen S.Parman Kav. 28...</td>\n",
              "      <td>Introduction Programming Front-End Programming...</td>\n",
              "      <td>introduction programming frontend programming ...</td>\n",
              "    </tr>\n",
              "  </tbody>\n",
              "</table>\n",
              "</div>\n",
              "      <button class=\"colab-df-convert\" onclick=\"convertToInteractive('df-14e3e389-652b-4e82-ae51-f88d23f5d636')\"\n",
              "              title=\"Convert this dataframe to an interactive table.\"\n",
              "              style=\"display:none;\">\n",
              "        \n",
              "  <svg xmlns=\"http://www.w3.org/2000/svg\" height=\"24px\"viewBox=\"0 0 24 24\"\n",
              "       width=\"24px\">\n",
              "    <path d=\"M0 0h24v24H0V0z\" fill=\"none\"/>\n",
              "    <path d=\"M18.56 5.44l.94 2.06.94-2.06 2.06-.94-2.06-.94-.94-2.06-.94 2.06-2.06.94zm-11 1L8.5 8.5l.94-2.06 2.06-.94-2.06-.94L8.5 2.5l-.94 2.06-2.06.94zm10 10l.94 2.06.94-2.06 2.06-.94-2.06-.94-.94-2.06-.94 2.06-2.06.94z\"/><path d=\"M17.41 7.96l-1.37-1.37c-.4-.4-.92-.59-1.43-.59-.52 0-1.04.2-1.43.59L10.3 9.45l-7.72 7.72c-.78.78-.78 2.05 0 2.83L4 21.41c.39.39.9.59 1.41.59.51 0 1.02-.2 1.41-.59l7.78-7.78 2.81-2.81c.8-.78.8-2.07 0-2.86zM5.41 20L4 18.59l7.72-7.72 1.47 1.35L5.41 20z\"/>\n",
              "  </svg>\n",
              "      </button>\n",
              "      \n",
              "  <style>\n",
              "    .colab-df-container {\n",
              "      display:flex;\n",
              "      flex-wrap:wrap;\n",
              "      gap: 12px;\n",
              "    }\n",
              "\n",
              "    .colab-df-convert {\n",
              "      background-color: #E8F0FE;\n",
              "      border: none;\n",
              "      border-radius: 50%;\n",
              "      cursor: pointer;\n",
              "      display: none;\n",
              "      fill: #1967D2;\n",
              "      height: 32px;\n",
              "      padding: 0 0 0 0;\n",
              "      width: 32px;\n",
              "    }\n",
              "\n",
              "    .colab-df-convert:hover {\n",
              "      background-color: #E2EBFA;\n",
              "      box-shadow: 0px 1px 2px rgba(60, 64, 67, 0.3), 0px 1px 3px 1px rgba(60, 64, 67, 0.15);\n",
              "      fill: #174EA6;\n",
              "    }\n",
              "\n",
              "    [theme=dark] .colab-df-convert {\n",
              "      background-color: #3B4455;\n",
              "      fill: #D2E3FC;\n",
              "    }\n",
              "\n",
              "    [theme=dark] .colab-df-convert:hover {\n",
              "      background-color: #434B5C;\n",
              "      box-shadow: 0px 1px 3px 1px rgba(0, 0, 0, 0.15);\n",
              "      filter: drop-shadow(0px 1px 2px rgba(0, 0, 0, 0.3));\n",
              "      fill: #FFFFFF;\n",
              "    }\n",
              "  </style>\n",
              "\n",
              "      <script>\n",
              "        const buttonEl =\n",
              "          document.querySelector('#df-14e3e389-652b-4e82-ae51-f88d23f5d636 button.colab-df-convert');\n",
              "        buttonEl.style.display =\n",
              "          google.colab.kernel.accessAllowed ? 'block' : 'none';\n",
              "\n",
              "        async function convertToInteractive(key) {\n",
              "          const element = document.querySelector('#df-14e3e389-652b-4e82-ae51-f88d23f5d636');\n",
              "          const dataTable =\n",
              "            await google.colab.kernel.invokeFunction('convertToInteractive',\n",
              "                                                     [key], {});\n",
              "          if (!dataTable) return;\n",
              "\n",
              "          const docLinkHtml = 'Like what you see? Visit the ' +\n",
              "            '<a target=\"_blank\" href=https://colab.research.google.com/notebooks/data_table.ipynb>data table notebook</a>'\n",
              "            + ' to learn more about interactive tables.';\n",
              "          element.innerHTML = '';\n",
              "          dataTable['output_type'] = 'display_data';\n",
              "          await google.colab.output.renderOutput(dataTable, element);\n",
              "          const docLink = document.createElement('div');\n",
              "          docLink.innerHTML = docLinkHtml;\n",
              "          element.appendChild(docLink);\n",
              "        }\n",
              "      </script>\n",
              "    </div>\n",
              "  </div>\n",
              "  "
            ]
          },
          "metadata": {},
          "execution_count": 25
        }
      ]
    },
    {
      "cell_type": "markdown",
      "source": [
        "**4. Tampilan Modul Pembelajaran (Setelah Preprocessing)**"
      ],
      "metadata": {
        "id": "DThmBE2rXNG3"
      }
    },
    {
      "cell_type": "code",
      "source": [
        "# Tampilan kedua (Setelah preprocessing)\n",
        "def print_description_clean(index):\n",
        "    example = df[df.index == index][['modulpembelajaran_clean', 'Nama perusahaan','Alamat']].values[0]\n",
        "    if len(example) > 0:\n",
        "        print(example[0])\n",
        "        print('Nama perusahaan:', example[1])\n",
        "        print('Alamat:', example[2])"
      ],
      "metadata": {
        "id": "3cNU0CJgXRIF"
      },
      "execution_count": 30,
      "outputs": []
    },
    {
      "cell_type": "code",
      "source": [
        "print_description_clean(1)"
      ],
      "metadata": {
        "colab": {
          "base_uri": "https://localhost:8080/"
        },
        "id": "8gUpj-3mXetc",
        "outputId": "cbc9a22a-b626-4d63-9280-283dab62548f"
      },
      "execution_count": 31,
      "outputs": [
        {
          "output_type": "stream",
          "name": "stdout",
          "text": [
            "desan web git github javascript laravel database mysql php restapi ui ux soft skill final project\n",
            "Nama perusahaan: PT Nurul fikri cipta inovasi\n",
            "Alamat: jl.situ indah No 116 RT.006 RW.010 Kel tugu kec.cimanggis kota depok jawa barat\n"
          ]
        }
      ]
    },
    {
      "cell_type": "code",
      "source": [
        "print_description_clean(2)"
      ],
      "metadata": {
        "colab": {
          "base_uri": "https://localhost:8080/"
        },
        "id": "svWZ7uriXiZ1",
        "outputId": "2f06b6d5-c4ed-4f1c-8ee3-735f88a092c8"
      },
      "execution_count": 32,
      "outputs": [
        {
          "output_type": "stream",
          "name": "stdout",
          "text": [
            "project ai metode penelitian ai pemrograman python logika konsep ai etika profesi proyek akhir\n",
            "Nama perusahaan: PT Orbit Ventura Indonesia\n",
            "Alamat: Veteran RI Building 15th Floor Unit Z15-002 Plaza Semanggi Jl.Jend.Sudirman Kav. 50 Jakarta Indonesia - 12930\n"
          ]
        }
      ]
    },
    {
      "cell_type": "code",
      "source": [
        "print_description_clean(5)"
      ],
      "metadata": {
        "colab": {
          "base_uri": "https://localhost:8080/"
        },
        "id": "WAHY0tfOXmAu",
        "outputId": "0be9815f-4071-4ff6-fecc-2782adec815c"
      },
      "execution_count": 33,
      "outputs": [
        {
          "output_type": "stream",
          "name": "stdout",
          "text": [
            "microsoft 365 fundamentals microsoft azure fundamentals capstone projetct design thingking masterclass modern project management microsoft azure administrator\n",
            "Nama perusahaan: PT MariBelajar Indonesia Cerdas\n",
            "Alamat: Jln Tunggul Ametung IVa no 8 Desa Ubung Kaja Kecamatan Denpasar utara Kota Denpasar\n"
          ]
        }
      ]
    },
    {
      "cell_type": "markdown",
      "source": [
        "**5. TF-IDF & Cosine Similarity**"
      ],
      "metadata": {
        "id": "Z_2lcD9nXp-O"
      }
    },
    {
      "cell_type": "code",
      "source": [
        "df.set_index('Nama perusahaan', inplace=True)\n",
        "tf = TfidfVectorizer(analyzer='word', ngram_range=(1, 3), min_df=0, stop_words='english')\n",
        "tfidf_matrix = tf.fit_transform(df['modulpembelajaran_clean'])\n",
        "cos_sim = cosine_similarity(tfidf_matrix, tfidf_matrix)\n",
        "cos_sim"
      ],
      "metadata": {
        "colab": {
          "base_uri": "https://localhost:8080/"
        },
        "id": "osTZt9pfXrP7",
        "outputId": "fdf76daf-e282-4dce-8b49-4eb4c9b0e6c5"
      },
      "execution_count": 34,
      "outputs": [
        {
          "output_type": "execute_result",
          "data": {
            "text/plain": [
              "array([[1.        , 0.02097435, 0.        , 0.0180986 , 0.        ,\n",
              "        0.        , 0.        , 0.02736114, 0.02029287, 0.        ,\n",
              "        0.01099162],\n",
              "       [0.02097435, 1.        , 0.01287591, 0.05313647, 0.        ,\n",
              "        0.0112824 , 0.03244877, 0.        , 0.        , 0.        ,\n",
              "        0.        ],\n",
              "       [0.        , 0.01287591, 1.        , 0.        , 0.        ,\n",
              "        0.01111059, 0.        , 0.        , 0.        , 0.        ,\n",
              "        0.        ],\n",
              "       [0.0180986 , 0.05313647, 0.        , 1.        , 0.        ,\n",
              "        0.04000823, 0.        , 0.05164984, 0.05141001, 0.        ,\n",
              "        0.04176928],\n",
              "       [0.        , 0.        , 0.        , 0.        , 1.        ,\n",
              "        0.        , 0.        , 0.        , 0.        , 0.        ,\n",
              "        0.        ],\n",
              "       [0.        , 0.0112824 , 0.01111059, 0.04000823, 0.        ,\n",
              "        1.        , 0.        , 0.03822683, 0.        , 0.        ,\n",
              "        0.02582499],\n",
              "       [0.        , 0.03244877, 0.        , 0.        , 0.        ,\n",
              "        0.        , 1.        , 0.        , 0.        , 0.        ,\n",
              "        0.        ],\n",
              "       [0.02736114, 0.        , 0.        , 0.05164984, 0.        ,\n",
              "        0.03822683, 0.        , 1.        , 0.04429368, 0.        ,\n",
              "        0.07808296],\n",
              "       [0.02029287, 0.        , 0.        , 0.05141001, 0.        ,\n",
              "        0.        , 0.        , 0.04429368, 1.        , 0.        ,\n",
              "        0.11633463],\n",
              "       [0.        , 0.        , 0.        , 0.        , 0.        ,\n",
              "        0.        , 0.        , 0.        , 0.        , 1.        ,\n",
              "        0.15204267],\n",
              "       [0.01099162, 0.        , 0.        , 0.04176928, 0.        ,\n",
              "        0.02582499, 0.        , 0.07808296, 0.11633463, 0.15204267,\n",
              "        1.        ]])"
            ]
          },
          "metadata": {},
          "execution_count": 34
        }
      ]
    },
    {
      "cell_type": "code",
      "source": [
        "# Set index utama di kolom 'mitra'\n",
        "indices = pd.Series(df.index)\n",
        "indices[:50]"
      ],
      "metadata": {
        "colab": {
          "base_uri": "https://localhost:8080/"
        },
        "id": "ZuMVjvpTX4o0",
        "outputId": "d6a5cabf-8bb0-4b96-c035-9812ccff6066"
      },
      "execution_count": 35,
      "outputs": [
        {
          "output_type": "execute_result",
          "data": {
            "text/plain": [
              "0                          Syamsul mu arif\n",
              "1             PT Nurul fikri cipta inovasi\n",
              "2               PT Orbit Ventura Indonesia\n",
              "3          PT Impactbyte Teknologi Edukasi\n",
              "4           PT Mitra Integrasi Informatika\n",
              "5          PT MariBelajar Indonesia Cerdas\n",
              "6      PT Abbauf Mulia Konsultan Teknologi\n",
              "7        PT Telkom Indonesia (Persero) Tbk\n",
              "8             PT Semesta Integrasi Digital\n",
              "9           PT Mitra Integrasi Informatika\n",
              "10    PT IlmuKomputerCom Braindevs Sistema\n",
              "Name: Nama perusahaan, dtype: object"
            ]
          },
          "metadata": {},
          "execution_count": 35
        }
      ]
    },
    {
      "cell_type": "markdown",
      "source": [
        "**6. Modelling**"
      ],
      "metadata": {
        "id": "cupHZxg1X8QO"
      }
    },
    {
      "cell_type": "code",
      "source": [
        "def recommendations(name, cos_sim = cos_sim):\n",
        "    \n",
        "    recommended_modul = []\n",
        "    \n",
        "    # Mengambil nama modul berdasarkan variabel indicies\n",
        "    idx = indices[indices == name].index[0]\n",
        "\n",
        "    # Membuat series berdasarkan skor kesamaan\n",
        "    score_series = pd.Series(cos_sim[idx]).sort_values(ascending = False)\n",
        "\n",
        "    # mengambil index dan dibuat 3 baris rekomendasi terbaik\n",
        "    top_10_indexes = list(score_series.iloc[1:4].index)\n",
        "    \n",
        "    for i in top_10_indexes:\n",
        "        recommended_modul.append(list(df.index)[i])\n",
        "        \n",
        "    return recommended_modul"
      ],
      "metadata": {
        "id": "Q7CBrpKVX9cl"
      },
      "execution_count": 36,
      "outputs": []
    },
    {
      "cell_type": "markdown",
      "source": [
        "**7. Prediksi**"
      ],
      "metadata": {
        "id": "-DelegazYE37"
      }
    },
    {
      "cell_type": "code",
      "source": [
        "recommendations('Syamsul mu arif')"
      ],
      "metadata": {
        "colab": {
          "base_uri": "https://localhost:8080/"
        },
        "id": "cFTMJQDuYF46",
        "outputId": "b6fd7294-7b0f-4335-ad75-a6e0b445fe1b"
      },
      "execution_count": 39,
      "outputs": [
        {
          "output_type": "execute_result",
          "data": {
            "text/plain": [
              "['PT Telkom Indonesia (Persero) Tbk',\n",
              " 'PT Nurul fikri cipta inovasi',\n",
              " 'PT Semesta Integrasi Digital']"
            ]
          },
          "metadata": {},
          "execution_count": 39
        }
      ]
    },
    {
      "cell_type": "code",
      "source": [
        "recommendations('PT Semesta Integrasi Digital')"
      ],
      "metadata": {
        "colab": {
          "base_uri": "https://localhost:8080/"
        },
        "id": "_o3gPB7IYMk7",
        "outputId": "c00d70fa-e192-42e5-c76c-ae68016c3000"
      },
      "execution_count": 40,
      "outputs": [
        {
          "output_type": "execute_result",
          "data": {
            "text/plain": [
              "['PT IlmuKomputerCom Braindevs Sistema',\n",
              " 'PT Impactbyte Teknologi Edukasi',\n",
              " 'PT Telkom Indonesia (Persero) Tbk']"
            ]
          },
          "metadata": {},
          "execution_count": 40
        }
      ]
    },
    {
      "cell_type": "code",
      "source": [
        "recommendations('PT Abbauf Mulia Konsultan Teknologi')"
      ],
      "metadata": {
        "colab": {
          "base_uri": "https://localhost:8080/"
        },
        "id": "O6J3h5peYTz1",
        "outputId": "b4784a2d-8e73-4101-a2b7-e5ead3bc38ea"
      },
      "execution_count": 41,
      "outputs": [
        {
          "output_type": "execute_result",
          "data": {
            "text/plain": [
              "['PT Nurul fikri cipta inovasi',\n",
              " 'Syamsul mu arif',\n",
              " 'PT Orbit Ventura Indonesia']"
            ]
          },
          "metadata": {},
          "execution_count": 41
        }
      ]
    }
  ]
}